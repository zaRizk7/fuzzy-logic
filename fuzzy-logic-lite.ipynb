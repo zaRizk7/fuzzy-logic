{
 "cells": [
  {
   "cell_type": "markdown",
   "metadata": {
    "id": "58QFtrU9K2FF"
   },
   "source": [
    "\n",
    "# Fuzzy Logic\n",
    "## Assignment 2 - Introduction to Artificial Intelligence\n",
    "### Student ID: 1301184521\n",
    "### Name : Lalu M. Riza Rizky\n",
    "### Class : IF-42-INT\n",
    "\n",
    "You are given Mahasiswa.xls containing data of 100 students with two attributes: Penghasilan (Monthly income, real number) and Pengeluaran (Monthly expenses, real number) of a family and the unit is millions IDR. Build a fuzzy logic based system to select 20 students who are eligible for registration fee assistance of 50%. The system reads the input file Mahasiswa.xls and outputs a Bantuan.xls file which contains one column vector containing 20 rows of integer-valued numbers (whole numbers) that represent the row / record numbers (1-100) in the Mahasiswa.xls file.\n",
    "\n",
    "#### Things you must observe:\n",
    "* Number and Linguistic Names for each input\n",
    "* Shape and Range of Input Membership Functions\n",
    "* Inference Rules\n",
    "* Defuzzification Method\n",
    "* Shape dan Range of Output Membership Functions (as appropriate with your chosen defuzzification method)\n",
    "\n",
    "#### Processes you need to build (can be functions/procedures):\n",
    "* Read file\n",
    "* Fuzzification\n",
    "* Inference\n",
    "* Defuzzification\n",
    "\n",
    "Output from your sistem a Bantuan.xls file which contains one column vector containing 20 rows of integer-valued numbers (whole numbers) that represent the row / record numbers (1-100) in the Mahasiswa.xls file.\n",
    "\n",
    "#### Program Specification\n",
    "* Language: Python, with Jupyter Notebook\n",
    "* Library: pandas\n",
    "* Membership Function Type: Trapezoidal\n",
    "* Total Fuzzy Rule: 9\n",
    "* Defuzzification Method: Constant Defuzzification (Sugeno)\n",
    "\n",
    "#### Note\n",
    "This is a simplified version of my previous code written in R. This code only goes through the calculation and giving the result, without giving any visualization and detailed explaination at all. Also the defuzzification method implemented in this code is different compared to the R version where the R version implements center of gravity (Mamdani) method, this version implements constant defuzzification (Sugeno) method.\n",
    "\n",
    "To read the version with more detailed explaination, please check: https://github.com/zaRizk7/fuzzy-logic/blob/main/fuzzy-logic.ipynb"
   ]
  },
  {
   "cell_type": "markdown",
   "metadata": {
    "id": "w8Cgl25fMXCg"
   },
   "source": [
    "#### Step Rundown\n",
    "Here are the steps of the structure building of this program:"
   ]
  },
  {
   "cell_type": "markdown",
   "metadata": {
    "id": "uW1qYB4AM5JZ"
   },
   "source": [
    "##### 1. Import required libraries\n",
    "It is required to import pandas for doing this task in Python since Python does not directly have a way to read and write directly .xlsx or .csv file."
   ]
  },
  {
   "cell_type": "code",
   "execution_count": 1,
   "metadata": {
    "id": "iJM6A6GXlgQO"
   },
   "outputs": [],
   "source": [
    "import pandas as pd"
   ]
  },
  {
   "cell_type": "markdown",
   "metadata": {
    "id": "QCGnojbINaAM"
   },
   "source": [
    "##### 2. Setting up URL for dataset and inference rule table\n",
    "Since the code is originally in Google Colab. In order to make it easier to import the tables required. It has been setup with URLs which directly linked to Google Spreadsheet and exports the spreadsheet to a .xlsx file."
   ]
  },
  {
   "cell_type": "code",
   "execution_count": 2,
   "metadata": {
    "id": "gteCXdrcpIJl"
   },
   "outputs": [],
   "source": [
    "dataset_url = 'https://docs.google.com/spreadsheets/d/1tojklCVqyH9b4_hJMxPp-3zpSPS4fkPLknvuBHpa5WY/export?format=xlsx'\n",
    "ruleset_url = 'https://docs.google.com/spreadsheets/d/1VqhacFI-OIXBn7XxVakAorcVLJIFXAFgmn3k_NMVwms/export?format=xlsx'"
   ]
  },
  {
   "cell_type": "markdown",
   "metadata": {
    "id": "Y_8BJur6OSTh"
   },
   "source": [
    "##### 3. Determining the membership function\n",
    "The membership function is using the trapedoizal based version. To make sure that the definition of membership function is easier, create a base function for the membership function. There are three versions defined in this program:\n",
    "* Trapezoidal\n",
    "* Trapezoidal Ascend\n",
    "* Trapezoidal Descend"
   ]
  },
  {
   "cell_type": "code",
   "execution_count": 3,
   "metadata": {
    "id": "y6Qx2qmfoSBk"
   },
   "outputs": [],
   "source": [
    "class Membership:\n",
    "  def trapezoid(self, a, b, c, d):\n",
    "    def membership(x):\n",
    "      if x <= a or x > d:\n",
    "        return 0\n",
    "      elif a < x < b:\n",
    "        return (x - a) / (b - a)\n",
    "      elif b <= x <= c:\n",
    "        return 1\n",
    "      else:\n",
    "        return -(x - d) / (d - c)\n",
    "    return membership\n",
    "\n",
    "  def trapezoid_ascend(self, a, b):\n",
    "    def membership(x):\n",
    "      if x <= a:\n",
    "        return 0\n",
    "      elif a < x < b:\n",
    "        return (x - a) / (b - a)\n",
    "      else:\n",
    "        return 1\n",
    "    return membership\n",
    "\n",
    "  def trapezoid_descend(self, a, b):\n",
    "    def membership(x):\n",
    "      if x <= a:\n",
    "        return 1\n",
    "      elif a < x < b:\n",
    "        return (b - x) / (b - a)\n",
    "      else:\n",
    "        return 0\n",
    "    return membership"
   ]
  },
  {
   "cell_type": "markdown",
   "metadata": {
    "id": "JjcPMfSGO2Ob"
   },
   "source": [
    "Next, determine the membership range for income, expense, and result. Based on the data observation, the defined ranges for the membership function of each input are:"
   ]
  },
  {
   "cell_type": "markdown",
   "metadata": {
    "id": "qk9WKOCaOhWy"
   },
   "source": [
    "\n",
    "Income:\n",
    "* Low Membership:\n",
    "  * Minimum: 5\n",
    "  * Maximum: 7\n",
    "* Average Membership:\n",
    "  * Lower Minimum: 6\n",
    "  * Lower Maximum: 14\n",
    "  * Upper Minimum: 8\n",
    "  * Upper Maximum: 12\n",
    "* High Membership:\n",
    "  * Minimum: 11\n",
    "  * Maximum: 16"
   ]
  },
  {
   "cell_type": "code",
   "execution_count": 4,
   "metadata": {
    "id": "tusJ2mzrsg4y"
   },
   "outputs": [],
   "source": [
    "class Income(Membership):\n",
    "  def __init__(self, value):\n",
    "    self.value = value\n",
    "    self.membership_value = {\n",
    "        'low': self.low(),\n",
    "        'average': self.average(),\n",
    "        'high': self.high()\n",
    "    }\n",
    "\n",
    "  def membership(self, label):\n",
    "    return self.membership_value[label]\n",
    "\n",
    "  def low(self):\n",
    "    membership = self.trapezoid_descend(7, 9)\n",
    "    return membership(self.value)\n",
    "\n",
    "  def average(self):\n",
    "    membership = self.trapezoid(6, 8, 12, 14)\n",
    "    return membership(self.value)\n",
    "  \n",
    "  def high(self):\n",
    "    membership = self.trapezoid_ascend(11, 16)\n",
    "    return membership(self.value)\n",
    "    "
   ]
  },
  {
   "cell_type": "markdown",
   "metadata": {
    "id": "RIjdtw1NOyiy"
   },
   "source": [
    "\n",
    "Expense:\n",
    "* Low Membership:\n",
    "  * Minimum: 4\n",
    "  * Maximum: 6\n",
    "* Average Membership:\n",
    "  * Lower Minimum: 5\n",
    "  * Lower Maximum: 9\n",
    "  * Upper Minimum: 6\n",
    "  * Upper Maximum: 8\n",
    "* High Membership:\n",
    "  * Minimum: 8\n",
    "  * Maximum: 10"
   ]
  },
  {
   "cell_type": "code",
   "execution_count": 5,
   "metadata": {
    "id": "HMJltay5q6eG"
   },
   "outputs": [],
   "source": [
    "class Expense(Membership):\n",
    "  def __init__(self, value):\n",
    "    self.value = value\n",
    "    self.membership_value = {\n",
    "        'low': self.low(),\n",
    "        'average': self.average(),\n",
    "        'high': self.high()\n",
    "    }\n",
    "\n",
    "  def membership(self, label):\n",
    "    return self.membership_value[label]\n",
    "\n",
    "  def low(self):\n",
    "    membership = self.trapezoid_descend(4, 6)\n",
    "    return membership(self.value)\n",
    "\n",
    "  def average(self):\n",
    "    membership = self.trapezoid(5, 6, 8, 9)\n",
    "    return membership(self.value)\n",
    "  \n",
    "  def high(self):\n",
    "    membership = self.trapezoid_ascend(8, 10)\n",
    "    return membership(self.value)\n",
    "    "
   ]
  },
  {
   "cell_type": "markdown",
   "metadata": {
    "id": "J_4ZqQAdPE-j"
   },
   "source": [
    "##### 4. Inference, Defuzzification, Output"
   ]
  },
  {
   "cell_type": "markdown",
   "metadata": {
    "id": "iJUdqn8_PTSJ"
   },
   "source": [
    "###### 4.1. Inference\n",
    "Firstly, the fuzzy values are calculated both for income, expense, and the result. Result fuzzy values are based on the minimum value between income and expense fuzzy values. The inferred values are based on the maximum value between the result fuzzy values between the defined labels for each data. So, to infer the entire dataset will be required to iterate each row to calculate each data inferred values.\n",
    "\n",
    "###### 4.2. Defuzzification\n",
    "The constant defuzzification (Sugeno) method utilizes constant values defined by each label used for the result. The formula used to calculate the crisp value is, $z^*=\\frac{\\sum_{i = 1}^{n}\\mu B_i c_i}{\\sum_{i = 1}^{n}\\mu B_i}$ where $z^*$ is the crisp value, $c_i$ is the constant for the $i^{th}$ linguistic / label, and $\\mu B_i$ is the membership for the $i^{th}$ lingustic / label."
   ]
  },
  {
   "cell_type": "code",
   "execution_count": 6,
   "metadata": {
    "id": "1N4Jo3Z1p0Jm"
   },
   "outputs": [],
   "source": [
    "class AssignmentFuzzySystem:\n",
    "  def __init__(self, dataset_url, ruleset_url):\n",
    "    self.dataset = pd.read_excel(dataset_url)\n",
    "    self.ruleset = pd.read_excel(ruleset_url)\n",
    "    self.result = self.calculate(20)\n",
    "    self.result.columns = ['id']\n",
    "\n",
    "  def infer_data(self, data):\n",
    "    income = lambda label: Income(data['Penghasilan']).membership(label)\n",
    "    expense = lambda label: Expense(data['Pengeluaran']).membership(label)\n",
    "    label = ['reject', 'consider', 'accept']\n",
    "    membership = [0, 0, 0]\n",
    "    for idx, rule in self.ruleset.iterrows():\n",
    "      value = min(income(rule['income']), expense(rule['expense']))\n",
    "      label_idx = label.index(rule['result'])\n",
    "      membership[label_idx] = max(membership[label_idx], value)\n",
    "    return membership\n",
    "\n",
    "  def infer_dataset(self):\n",
    "    values = []\n",
    "    for idx, data in self.dataset.iterrows():\n",
    "      values.append(self.infer_data(data))\n",
    "    return values\n",
    "\n",
    "  def defuzzification(self):\n",
    "    values = []\n",
    "    constant = [60, 80, 100]\n",
    "    for id, val in zip(range(1, 101), self.infer_dataset()):\n",
    "      x_multiple = sum([x * c for x, c in zip(constant, val)])\n",
    "      x_sum = sum(val)\n",
    "      crisp_value = x_multiple / x_sum\n",
    "      values.append({'id': id, 'value': crisp_value})\n",
    "    return values\n",
    "\n",
    "  def calculate(self, n):\n",
    "    result = self.defuzzification()\n",
    "    result = sorted(result, key=lambda x: x['value'], reverse=True)\n",
    "    result = [x['id'] for x in result]\n",
    "    result = pd.DataFrame(result)\n",
    "    result = result.head(n)\n",
    "    return result\n",
    "\n",
    "  def export(self):\n",
    "    self.result.to_csv('bantuan.csv', index=False)\n",
    "    self.result.to_excel('bantuan.xlsx', index=False)\n"
   ]
  },
  {
   "cell_type": "markdown",
   "metadata": {
    "id": "3V5DmA4TSIy9"
   },
   "source": [
    "###### 4.3. Output\n",
    "In order to output result of the process done by the fuzzy system, since the use of OOP in the program. It needs to construct the object with the given URL for dataset and inference rule. While constructing, it will do a calculation to infer the fuzzy values for each label / linguistic defined. After the object successfully constructed, it will output the result and export it directly as a .csv and .xlsx file."
   ]
  },
  {
   "cell_type": "code",
   "execution_count": 7,
   "metadata": {
    "id": "m8LjpaCFwRdK"
   },
   "outputs": [],
   "source": [
    "fuzzy_system = AssignmentFuzzySystem(dataset_url, ruleset_url)"
   ]
  },
  {
   "cell_type": "code",
   "execution_count": 8,
   "metadata": {
    "colab": {
     "base_uri": "https://localhost:8080/",
     "height": 648
    },
    "id": "uAQXJUSsKMDD",
    "outputId": "b2e7f435-e8fd-4e22-b892-c5052f2a667f"
   },
   "outputs": [
    {
     "data": {
      "text/html": [
       "<div>\n",
       "<style scoped>\n",
       "    .dataframe tbody tr th:only-of-type {\n",
       "        vertical-align: middle;\n",
       "    }\n",
       "\n",
       "    .dataframe tbody tr th {\n",
       "        vertical-align: top;\n",
       "    }\n",
       "\n",
       "    .dataframe thead th {\n",
       "        text-align: right;\n",
       "    }\n",
       "</style>\n",
       "<table border=\"1\" class=\"dataframe\">\n",
       "  <thead>\n",
       "    <tr style=\"text-align: right;\">\n",
       "      <th></th>\n",
       "      <th>id</th>\n",
       "    </tr>\n",
       "  </thead>\n",
       "  <tbody>\n",
       "    <tr>\n",
       "      <th>0</th>\n",
       "      <td>4</td>\n",
       "    </tr>\n",
       "    <tr>\n",
       "      <th>1</th>\n",
       "      <td>7</td>\n",
       "    </tr>\n",
       "    <tr>\n",
       "      <th>2</th>\n",
       "      <td>11</td>\n",
       "    </tr>\n",
       "    <tr>\n",
       "      <th>3</th>\n",
       "      <td>13</td>\n",
       "    </tr>\n",
       "    <tr>\n",
       "      <th>4</th>\n",
       "      <td>33</td>\n",
       "    </tr>\n",
       "    <tr>\n",
       "      <th>5</th>\n",
       "      <td>38</td>\n",
       "    </tr>\n",
       "    <tr>\n",
       "      <th>6</th>\n",
       "      <td>41</td>\n",
       "    </tr>\n",
       "    <tr>\n",
       "      <th>7</th>\n",
       "      <td>46</td>\n",
       "    </tr>\n",
       "    <tr>\n",
       "      <th>8</th>\n",
       "      <td>47</td>\n",
       "    </tr>\n",
       "    <tr>\n",
       "      <th>9</th>\n",
       "      <td>49</td>\n",
       "    </tr>\n",
       "    <tr>\n",
       "      <th>10</th>\n",
       "      <td>50</td>\n",
       "    </tr>\n",
       "    <tr>\n",
       "      <th>11</th>\n",
       "      <td>52</td>\n",
       "    </tr>\n",
       "    <tr>\n",
       "      <th>12</th>\n",
       "      <td>63</td>\n",
       "    </tr>\n",
       "    <tr>\n",
       "      <th>13</th>\n",
       "      <td>66</td>\n",
       "    </tr>\n",
       "    <tr>\n",
       "      <th>14</th>\n",
       "      <td>69</td>\n",
       "    </tr>\n",
       "    <tr>\n",
       "      <th>15</th>\n",
       "      <td>75</td>\n",
       "    </tr>\n",
       "    <tr>\n",
       "      <th>16</th>\n",
       "      <td>79</td>\n",
       "    </tr>\n",
       "    <tr>\n",
       "      <th>17</th>\n",
       "      <td>81</td>\n",
       "    </tr>\n",
       "    <tr>\n",
       "      <th>18</th>\n",
       "      <td>94</td>\n",
       "    </tr>\n",
       "    <tr>\n",
       "      <th>19</th>\n",
       "      <td>99</td>\n",
       "    </tr>\n",
       "  </tbody>\n",
       "</table>\n",
       "</div>"
      ],
      "text/plain": [
       "    id\n",
       "0    4\n",
       "1    7\n",
       "2   11\n",
       "3   13\n",
       "4   33\n",
       "5   38\n",
       "6   41\n",
       "7   46\n",
       "8   47\n",
       "9   49\n",
       "10  50\n",
       "11  52\n",
       "12  63\n",
       "13  66\n",
       "14  69\n",
       "15  75\n",
       "16  79\n",
       "17  81\n",
       "18  94\n",
       "19  99"
      ]
     },
     "execution_count": 8,
     "metadata": {},
     "output_type": "execute_result"
    }
   ],
   "source": [
    "fuzzy_system.result"
   ]
  },
  {
   "cell_type": "code",
   "execution_count": 9,
   "metadata": {
    "id": "McGv3pquKNK7"
   },
   "outputs": [],
   "source": [
    "fuzzy_system.export()"
   ]
  }
 ],
 "metadata": {
  "colab": {
   "name": "fuzzy-logic-lite",
   "provenance": []
  },
  "kernelspec": {
   "display_name": "Python 3",
   "language": "python",
   "name": "python3"
  },
  "language_info": {
   "codemirror_mode": {
    "name": "ipython",
    "version": 3
   },
   "file_extension": ".py",
   "mimetype": "text/x-python",
   "name": "python",
   "nbconvert_exporter": "python",
   "pygments_lexer": "ipython3",
   "version": "3.7.6"
  }
 },
 "nbformat": 4,
 "nbformat_minor": 4
}
