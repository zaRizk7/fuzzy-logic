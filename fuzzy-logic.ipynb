{
 "cells": [
  {
   "cell_type": "markdown",
   "metadata": {},
   "source": [
    "# Fuzzy Logic\n",
    "## Assignment 2 - Introduction to Artificial Intelligence"
   ]
  },
  {
   "cell_type": "markdown",
   "metadata": {},
   "source": [
    "#### Student ID: 1301184521\n",
    "#### Name      : Lalu M. Riza Rizky\n",
    "#### Class     : IF-42-INT"
   ]
  },
  {
   "cell_type": "markdown",
   "metadata": {},
   "source": [
    "You are given Mahasiswa.xls containing data of 100 students with two attributes: Penghasilan (Monthly income, real number) and Pengeluaran (Monthly expenses, real number) of a family and the unit is millions IDR.\n",
    "Build a fuzzy logic based system to select 20 students who are eligible for registration fee assistance of 50%. The system reads the input file Mahasiswa.xls and outputs a Bantuan.xls file which contains one column vector containing 20 rows of integer-valued numbers (whole numbers) that represent the row / record numbers (1-100) in the Mahasiswa.xls file.\n",
    "\n",
    "Things you must observe:\n",
    "* Number and Linguistic Names for each input\n",
    "* Shape and Range of Input Membership Functions\n",
    "* Inference Rules\n",
    "* Defuzzification Method\n",
    "* Shape dan Range of Output Membership Functions (as appropriate with your chosen defuzzification method)\n",
    "\n",
    "Processes you need to build (can be functions/procedures):\n",
    "* Read file\n",
    "* Fuzzification\n",
    "* Inference\n",
    "* Defuzzification\n",
    "\n",
    "Output from your sistem a Bantuan.xls file which contains one column vector containing 20 rows of integer-valued numbers (whole numbers) that represent the row / record numbers (1-100) in the Mahasiswa.xls file."
   ]
  },
  {
   "cell_type": "markdown",
   "metadata": {},
   "source": [
    "## Program Specification\n",
    "* Language: R, with Jupyter Notebook\n",
    "* Library: xlsx library for R\n",
    "* Membership Function Type: Trapezoidal\n",
    "* Total Fuzzy Rule: 9\n",
    "* Defuzzification Method: Center of Gravity (Mamdani)"
   ]
  },
  {
   "cell_type": "markdown",
   "metadata": {},
   "source": [
    "## Step Rundown"
   ]
  },
  {
   "cell_type": "markdown",
   "metadata": {},
   "source": [
    "#### 1. Import library to handle .xlsx file\n",
    "This is mandatory since R does not have a library directly to read an .xlsx file."
   ]
  },
  {
   "cell_type": "code",
   "execution_count": 1,
   "metadata": {},
   "outputs": [],
   "source": [
    "library(xlsx)"
   ]
  },
  {
   "cell_type": "markdown",
   "metadata": {},
   "source": [
    "#### 2. Read given dataset\n",
    "Import the dataset file, 'mahasiswa.xlsx' given with the assignment. In this case, the file has been converted to a .csv file."
   ]
  },
  {
   "cell_type": "code",
   "execution_count": 2,
   "metadata": {},
   "outputs": [
    {
     "data": {
      "text/html": [
       "<table>\n",
       "<caption>A data.frame: 10 × 3</caption>\n",
       "<thead>\n",
       "\t<tr><th></th><th scope=col>Id</th><th scope=col>Penghasilan</th><th scope=col>Pengeluaran</th></tr>\n",
       "\t<tr><th></th><th scope=col>&lt;int&gt;</th><th scope=col>&lt;dbl&gt;</th><th scope=col>&lt;dbl&gt;</th></tr>\n",
       "</thead>\n",
       "<tbody>\n",
       "\t<tr><th scope=row>1</th><td> 1</td><td>18.76</td><td> 9.68</td></tr>\n",
       "\t<tr><th scope=row>2</th><td> 2</td><td> 8.35</td><td> 4.52</td></tr>\n",
       "\t<tr><th scope=row>3</th><td> 3</td><td>17.03</td><td>10.11</td></tr>\n",
       "\t<tr><th scope=row>4</th><td> 4</td><td> 8.23</td><td> 9.25</td></tr>\n",
       "\t<tr><th scope=row>5</th><td> 5</td><td>16.89</td><td> 6.99</td></tr>\n",
       "\t<tr><th scope=row>6</th><td> 6</td><td>15.19</td><td> 7.20</td></tr>\n",
       "\t<tr><th scope=row>7</th><td> 7</td><td> 9.03</td><td> 9.35</td></tr>\n",
       "\t<tr><th scope=row>8</th><td> 8</td><td>17.99</td><td> 7.10</td></tr>\n",
       "\t<tr><th scope=row>9</th><td> 9</td><td>17.09</td><td>10.54</td></tr>\n",
       "\t<tr><th scope=row>10</th><td>10</td><td>18.43</td><td> 7.74</td></tr>\n",
       "</tbody>\n",
       "</table>\n"
      ],
      "text/latex": [
       "A data.frame: 10 × 3\n",
       "\\begin{tabular}{r|lll}\n",
       "  & Id & Penghasilan & Pengeluaran\\\\\n",
       "  & <int> & <dbl> & <dbl>\\\\\n",
       "\\hline\n",
       "\t1 &  1 & 18.76 &  9.68\\\\\n",
       "\t2 &  2 &  8.35 &  4.52\\\\\n",
       "\t3 &  3 & 17.03 & 10.11\\\\\n",
       "\t4 &  4 &  8.23 &  9.25\\\\\n",
       "\t5 &  5 & 16.89 &  6.99\\\\\n",
       "\t6 &  6 & 15.19 &  7.20\\\\\n",
       "\t7 &  7 &  9.03 &  9.35\\\\\n",
       "\t8 &  8 & 17.99 &  7.10\\\\\n",
       "\t9 &  9 & 17.09 & 10.54\\\\\n",
       "\t10 & 10 & 18.43 &  7.74\\\\\n",
       "\\end{tabular}\n"
      ],
      "text/markdown": [
       "\n",
       "A data.frame: 10 × 3\n",
       "\n",
       "| <!--/--> | Id &lt;int&gt; | Penghasilan &lt;dbl&gt; | Pengeluaran &lt;dbl&gt; |\n",
       "|---|---|---|---|\n",
       "| 1 |  1 | 18.76 |  9.68 |\n",
       "| 2 |  2 |  8.35 |  4.52 |\n",
       "| 3 |  3 | 17.03 | 10.11 |\n",
       "| 4 |  4 |  8.23 |  9.25 |\n",
       "| 5 |  5 | 16.89 |  6.99 |\n",
       "| 6 |  6 | 15.19 |  7.20 |\n",
       "| 7 |  7 |  9.03 |  9.35 |\n",
       "| 8 |  8 | 17.99 |  7.10 |\n",
       "| 9 |  9 | 17.09 | 10.54 |\n",
       "| 10 | 10 | 18.43 |  7.74 |\n",
       "\n"
      ],
      "text/plain": [
       "   Id Penghasilan Pengeluaran\n",
       "1   1 18.76        9.68      \n",
       "2   2  8.35        4.52      \n",
       "3   3 17.03       10.11      \n",
       "4   4  8.23        9.25      \n",
       "5   5 16.89        6.99      \n",
       "6   6 15.19        7.20      \n",
       "7   7  9.03        9.35      \n",
       "8   8 17.99        7.10      \n",
       "9   9 17.09       10.54      \n",
       "10 10 18.43        7.74      "
      ]
     },
     "metadata": {},
     "output_type": "display_data"
    }
   ],
   "source": [
    "dataset <- read.csv('mahasiswa.csv')\n",
    "head(dataset, 10)"
   ]
  },
  {
   "cell_type": "markdown",
   "metadata": {},
   "source": [
    "#### 3. Determine the membership function\n",
    "In order to help determining the membership function both for income and expense, summary of the dataset are generated through the function directly given by R."
   ]
  },
  {
   "cell_type": "code",
   "execution_count": 3,
   "metadata": {},
   "outputs": [
    {
     "data": {
      "text/plain": [
       "  Penghasilan      Pengeluaran    \n",
       " Min.   : 4.620   Min.   : 3.440  \n",
       " 1st Qu.: 9.617   1st Qu.: 7.393  \n",
       " Median :14.805   Median : 8.600  \n",
       " Mean   :13.779   Mean   : 8.381  \n",
       " 3rd Qu.:17.045   3rd Qu.: 9.807  \n",
       " Max.   :19.690   Max.   :11.290  "
      ]
     },
     "metadata": {},
     "output_type": "display_data"
    }
   ],
   "source": [
    "summary(dataset[c('Penghasilan', 'Pengeluaran')])"
   ]
  },
  {
   "cell_type": "markdown",
   "metadata": {},
   "source": [
    "The membership function is using the trapedoizal based version. To make sure that the definition of membership function is easier, create a base function for the membership function. There are three versions defined in this program:\n",
    "1. Trapezoidal\n",
    "2. Trapezoidal Ascend\n",
    "3. Trapezoidal Descend"
   ]
  },
  {
   "cell_type": "code",
   "execution_count": 4,
   "metadata": {},
   "outputs": [],
   "source": [
    "membership.trapezoid <- function(x_min, x_max, x_minavg, x_maxavg) {\n",
    "    return(function(x) {\n",
    "        val <- 1\n",
    "        if (x <= x_min || x >= x_max) {\n",
    "            val <- 0\n",
    "        } else if (x > x_min && x < x_minavg) {\n",
    "            val <- (x - x_min) / (x_minavg - x_min)\n",
    "        } else if (x > x_maxavg && x < x_max) {\n",
    "            val <- -(x - x_max) / (x_max - x_maxavg)\n",
    "        }\n",
    "        return(val)\n",
    "    })\n",
    "}"
   ]
  },
  {
   "cell_type": "code",
   "execution_count": 5,
   "metadata": {},
   "outputs": [],
   "source": [
    "membership.trapezoid_ascend <- function(x_min, x_max) {\n",
    "    return(function(x) {\n",
    "        val <- 1\n",
    "        if (x <= x_min) {\n",
    "            val <- 0\n",
    "        } else if (x > x_min && x <= x_max) {\n",
    "            val <- (x - x_min) / (x_max - x_min)\n",
    "        }\n",
    "        return(val)\n",
    "    })\n",
    "}"
   ]
  },
  {
   "cell_type": "code",
   "execution_count": 6,
   "metadata": {},
   "outputs": [],
   "source": [
    "membership.trapezoid_descend <- function(x_min, x_max) {\n",
    "    return(function(x) {\n",
    "        val <- 1\n",
    "        if (x > x_max) {\n",
    "            val <- 0\n",
    "        } else if (x > x_min && x <= x_max) {\n",
    "            val <- (x_max - x) / (x_max - x_min)\n",
    "        }\n",
    "        return(val)\n",
    "    })\n",
    "}"
   ]
  },
  {
   "cell_type": "markdown",
   "metadata": {},
   "source": [
    "Next, determine the membership range for income, expense, and result. Based on the data observation, the defined ranges for the membership function of each input are:"
   ]
  },
  {
   "cell_type": "markdown",
   "metadata": {},
   "source": [
    "1. Income:\n",
    "- Low Membership:\n",
    "    + Minimum: 5\n",
    "    + Maximum: 7\n",
    "- Average Membership:\n",
    "    + Lower Minimum: 6\n",
    "    + Lower Maximum: 14\n",
    "    + Upper Minimum: 8\n",
    "    + Upper Maximum: 12\n",
    "- High Membership:\n",
    "    + Minimum: 11\n",
    "    + Maximum: 16"
   ]
  },
  {
   "cell_type": "code",
   "execution_count": 7,
   "metadata": {},
   "outputs": [],
   "source": [
    "income_membership.low <- membership.trapezoid_descend(5, 7)\n",
    "income_membership.average <- membership.trapezoid(6, 14, 8, 12)\n",
    "income_membership.high <- membership.trapezoid_ascend(11, 16)\n",
    "income_membership <- function(type, income) {\n",
    "    value <- income_membership.low(income)\n",
    "    if (type == \"average\") {\n",
    "        value <- income_membership.average(income)\n",
    "    } else if (type == \"high\") {\n",
    "        value <- income_membership.high(income)\n",
    "    }\n",
    "    return(value)\n",
    "}"
   ]
  },
  {
   "cell_type": "markdown",
   "metadata": {},
   "source": [
    "2. Expense:\n",
    "- Low Membership:\n",
    "    + Minimum: 4\n",
    "    + Maximum: 6\n",
    "- Average Membership:\n",
    "    + Lower Minimum: 5\n",
    "    + Lower Maximum: 9\n",
    "    + Upper Minimum: 6\n",
    "    + Upper Maximum: 8\n",
    "- High Membership:\n",
    "    + Minimum: 8\n",
    "    + Maximum: 10"
   ]
  },
  {
   "cell_type": "code",
   "execution_count": 8,
   "metadata": {},
   "outputs": [],
   "source": [
    "expense_membership.low <- membership.trapezoid_descend(4, 6)\n",
    "expense_membership.average <- membership.trapezoid(5, 9, 6, 8)\n",
    "expense_membership.high <- membership.trapezoid_ascend(8, 10)\n",
    "expense_membership <- function(type, expense) {\n",
    "    value <- expense_membership.low(expense)\n",
    "    if (type == \"average\") {\n",
    "        value <- expense_membership.average(expense)\n",
    "    } else if (type == \"high\") {\n",
    "        value <- expense_membership.high(expense)\n",
    "    }\n",
    "    return(value)\n",
    "}"
   ]
  },
  {
   "cell_type": "markdown",
   "metadata": {},
   "source": [
    "3. Result:\n",
    "- Reject Membership:\n",
    "    + Minimum: 40\n",
    "    + Maximum: 60\n",
    "+ Consider Membership:\n",
    "    + Lower Minimum: 55\n",
    "    + Lower Maximum: 80\n",
    "    + Upper Average: 60\n",
    "    + Upper Average: 70\n",
    "+ Accept Membership:\n",
    "    + Minimum: 75\n",
    "    + Maximum: 85"
   ]
  },
  {
   "cell_type": "code",
   "execution_count": 9,
   "metadata": {},
   "outputs": [],
   "source": [
    "result_membership.reject <- membership.trapezoid_descend(40, 60)\n",
    "result_membership.consider <- membership.trapezoid(55, 80, 60, 70)\n",
    "result_membership.accept <- membership.trapezoid_ascend(75, 85)"
   ]
  },
  {
   "cell_type": "markdown",
   "metadata": {},
   "source": [
    "After the membership function has been defined, the function can be visualized as a plot as shown below:"
   ]
  },
  {
   "cell_type": "code",
   "execution_count": 10,
   "metadata": {},
   "outputs": [
    {
     "data": {
      "image/png": "[encoded data removed]",
      "text/plain": [
       "Plot with title “Result Membership”"
      ]
     },
     "metadata": {
      "image/png": {
       "height": 420,
       "width": 420
      }
     },
     "output_type": "display_data"
    }
   ],
   "source": [
    "# Income membership range value\n",
    "a <- seq(0, 20, length.out = 100)\n",
    "c <- lapply(a, income_membership.low)\n",
    "d <- lapply(a, income_membership.average)\n",
    "e <- lapply(a, income_membership.high)\n",
    "\n",
    "# Expense membership range value\n",
    "b <- seq(0, 12, length.out = 100)\n",
    "f <- lapply(b, expense_membership.low)\n",
    "g <- lapply(b, expense_membership.average)\n",
    "h <- lapply(b, expense_membership.high)\n",
    "\n",
    "# Result membership range value\n",
    "sequence <- seq(0, 100, length.out = 1000)\n",
    "result_sequence.reject <- lapply(sequence, result_membership.reject)\n",
    "result_sequence.consider <- lapply(sequence, result_membership.consider)\n",
    "result_sequence.accept <- lapply(sequence, result_membership.accept)\n",
    "\n",
    "# Create 3x1 plot grouping\n",
    "par(mfrow = c(3, 1))\n",
    "\n",
    "# Plot income membership\n",
    "plot(a, c, type = \"l\", ylab = \"Fuzziness\", xlab = \"Value\", col = \"green\")\n",
    "title(\"Income Membership\")\n",
    "lines(a, d, col = \"blue\")\n",
    "lines(a, e, col = \"red\")\n",
    "abline(h = 0)\n",
    "abline(v = 0)\n",
    "\n",
    "# Plot expense membership\n",
    "plot(b, f, type = \"l\", ylab = \"Fuzziness\", xlab = \"Value\", col = \"green\")\n",
    "title(\"Expense Membership\")\n",
    "lines(b, g, col = \"blue\")\n",
    "lines(b, h, col = \"red\")\n",
    "abline(h = 0)\n",
    "abline(v = 0)\n",
    "\n",
    "# Plot result membership\n",
    "plot(sequence, result_sequence.reject, type = \"l\", ylab = \"Fuzziness\", xlab = \"Value\", col = \"green\")\n",
    "title(\"Result Membership\")\n",
    "lines(sequence, result_sequence.consider, col = \"blue\")\n",
    "lines(sequence, result_sequence.accept, col = \"red\")\n",
    "abline(h = 0)\n",
    "abline(v = 0)"
   ]
  },
  {
   "cell_type": "markdown",
   "metadata": {},
   "source": [
    "#### 4. Determine Fuzzy Rules\n",
    "Based on the input sample given, the ones appropriate to receive aid is the ones that mainly have a low income. The rules can be applied in the table as shown below:"
   ]
  },
  {
   "cell_type": "code",
   "execution_count": 11,
   "metadata": {},
   "outputs": [
    {
     "data": {
      "text/html": [
       "<table>\n",
       "<caption>A data.frame: 9 × 4</caption>\n",
       "<thead>\n",
       "\t<tr><th scope=col>id</th><th scope=col>income</th><th scope=col>expense</th><th scope=col>result</th></tr>\n",
       "\t<tr><th scope=col>&lt;int&gt;</th><th scope=col>&lt;chr&gt;</th><th scope=col>&lt;chr&gt;</th><th scope=col>&lt;chr&gt;</th></tr>\n",
       "</thead>\n",
       "<tbody>\n",
       "\t<tr><td>1</td><td>low    </td><td>low    </td><td>consider</td></tr>\n",
       "\t<tr><td>2</td><td>low    </td><td>average</td><td>accept  </td></tr>\n",
       "\t<tr><td>3</td><td>low    </td><td>high   </td><td>accept  </td></tr>\n",
       "\t<tr><td>4</td><td>average</td><td>low    </td><td>reject  </td></tr>\n",
       "\t<tr><td>5</td><td>average</td><td>average</td><td>consider</td></tr>\n",
       "\t<tr><td>6</td><td>average</td><td>high   </td><td>accept  </td></tr>\n",
       "\t<tr><td>7</td><td>high   </td><td>low    </td><td>reject  </td></tr>\n",
       "\t<tr><td>8</td><td>high   </td><td>average</td><td>reject  </td></tr>\n",
       "\t<tr><td>9</td><td>high   </td><td>high   </td><td>consider</td></tr>\n",
       "</tbody>\n",
       "</table>\n"
      ],
      "text/latex": [
       "A data.frame: 9 × 4\n",
       "\\begin{tabular}{llll}\n",
       " id & income & expense & result\\\\\n",
       " <int> & <chr> & <chr> & <chr>\\\\\n",
       "\\hline\n",
       "\t 1 & low     & low     & consider\\\\\n",
       "\t 2 & low     & average & accept  \\\\\n",
       "\t 3 & low     & high    & accept  \\\\\n",
       "\t 4 & average & low     & reject  \\\\\n",
       "\t 5 & average & average & consider\\\\\n",
       "\t 6 & average & high    & accept  \\\\\n",
       "\t 7 & high    & low     & reject  \\\\\n",
       "\t 8 & high    & average & reject  \\\\\n",
       "\t 9 & high    & high    & consider\\\\\n",
       "\\end{tabular}\n"
      ],
      "text/markdown": [
       "\n",
       "A data.frame: 9 × 4\n",
       "\n",
       "| id &lt;int&gt; | income &lt;chr&gt; | expense &lt;chr&gt; | result &lt;chr&gt; |\n",
       "|---|---|---|---|\n",
       "| 1 | low     | low     | consider |\n",
       "| 2 | low     | average | accept   |\n",
       "| 3 | low     | high    | accept   |\n",
       "| 4 | average | low     | reject   |\n",
       "| 5 | average | average | consider |\n",
       "| 6 | average | high    | accept   |\n",
       "| 7 | high    | low     | reject   |\n",
       "| 8 | high    | average | reject   |\n",
       "| 9 | high    | high    | consider |\n",
       "\n"
      ],
      "text/plain": [
       "  id income  expense result  \n",
       "1 1  low     low     consider\n",
       "2 2  low     average accept  \n",
       "3 3  low     high    accept  \n",
       "4 4  average low     reject  \n",
       "5 5  average average consider\n",
       "6 6  average high    accept  \n",
       "7 7  high    low     reject  \n",
       "8 8  high    average reject  \n",
       "9 9  high    high    consider"
      ]
     },
     "metadata": {},
     "output_type": "display_data"
    }
   ],
   "source": [
    "rules <- read.csv('fuzzy-rules.csv')\n",
    "rules"
   ]
  },
  {
   "cell_type": "markdown",
   "metadata": {},
   "source": [
    "#### 5. Inference\n",
    "Firstly, the fuzzy values are calculated both for income, expense, and the result. Result fuzzy values are based on the minimum value between income and expense fuzzy value. The function implementation can be as shown in code below:"
   ]
  },
  {
   "cell_type": "code",
   "execution_count": 12,
   "metadata": {},
   "outputs": [],
   "source": [
    "generate_fuzzy_table <- function(data, rules) {\n",
    "    data_id <- c()\n",
    "    data_id[1:nrow(rules)] <- data$Id\n",
    "    income <- c()\n",
    "    income[1:nrow(rules)] <- data$Penghasilan\n",
    "    expense <- c()\n",
    "    expense[1:nrow(rules)] <- data$Pengeluaran\n",
    "    income_fuzzy <- c()\n",
    "    expense_fuzzy <- c()\n",
    "    result_fuzzy <- c()\n",
    "    for (i in 1:nrow(rules)) {\n",
    "        income_fuzzy <- c(income_fuzzy, income_membership(rules[i, \"income\"], data$Penghasilan))\n",
    "        expense_fuzzy <- c(expense_fuzzy, expense_membership(rules[i, \"expense\"], data$Pengeluaran))\n",
    "        current_length <- length(income_fuzzy)\n",
    "        result_fuzzy <- c(result_fuzzy, min(income_fuzzy[current_length], expense_fuzzy[current_length]))\n",
    "    }\n",
    "    return(data.frame(\n",
    "        data_id = data_id,\n",
    "        id = rules$id,\n",
    "        income = income,\n",
    "        income_rule = rules$income, \n",
    "        income_fuzzy = income_fuzzy,\n",
    "        expense = expense,\n",
    "        expense_rule = rules$expense,\n",
    "        expense_fuzzy = expense_fuzzy,\n",
    "        result_rule = rules$result,\n",
    "        result_fuzzy = result_fuzzy\n",
    "    ))\n",
    "}"
   ]
  },
  {
   "cell_type": "markdown",
   "metadata": {},
   "source": [
    "Next, a new dataframe is created to store the values with its fuzzy values. The sample output can be shown below where it only shows the first 5 values of income, expense, and results fuzzy value. The total count for the values is rule count multiplied by data count. So the total data is $9\\times100=900$. For the sample below, the total data is $9\\times5=45$."
   ]
  },
  {
   "cell_type": "code",
   "execution_count": 13,
   "metadata": {},
   "outputs": [
    {
     "data": {
      "text/html": [
       "<table>\n",
       "<caption>A data.frame: 45 × 10</caption>\n",
       "<thead>\n",
       "\t<tr><th></th><th scope=col>data_id</th><th scope=col>id</th><th scope=col>income</th><th scope=col>income_rule</th><th scope=col>income_fuzzy</th><th scope=col>expense</th><th scope=col>expense_rule</th><th scope=col>expense_fuzzy</th><th scope=col>result_rule</th><th scope=col>result_fuzzy</th></tr>\n",
       "\t<tr><th></th><th scope=col>&lt;int&gt;</th><th scope=col>&lt;int&gt;</th><th scope=col>&lt;dbl&gt;</th><th scope=col>&lt;chr&gt;</th><th scope=col>&lt;dbl&gt;</th><th scope=col>&lt;dbl&gt;</th><th scope=col>&lt;chr&gt;</th><th scope=col>&lt;dbl&gt;</th><th scope=col>&lt;chr&gt;</th><th scope=col>&lt;dbl&gt;</th></tr>\n",
       "</thead>\n",
       "<tbody>\n",
       "\t<tr><th scope=row>1</th><td>1</td><td>1</td><td>18.76</td><td>low    </td><td>0</td><td> 9.68</td><td>low    </td><td>0.000</td><td>consider</td><td>0.000</td></tr>\n",
       "\t<tr><th scope=row>2</th><td>1</td><td>2</td><td>18.76</td><td>low    </td><td>0</td><td> 9.68</td><td>average</td><td>0.000</td><td>accept  </td><td>0.000</td></tr>\n",
       "\t<tr><th scope=row>3</th><td>1</td><td>3</td><td>18.76</td><td>low    </td><td>0</td><td> 9.68</td><td>high   </td><td>0.840</td><td>accept  </td><td>0.000</td></tr>\n",
       "\t<tr><th scope=row>4</th><td>1</td><td>4</td><td>18.76</td><td>average</td><td>0</td><td> 9.68</td><td>low    </td><td>0.000</td><td>reject  </td><td>0.000</td></tr>\n",
       "\t<tr><th scope=row>5</th><td>1</td><td>5</td><td>18.76</td><td>average</td><td>0</td><td> 9.68</td><td>average</td><td>0.000</td><td>consider</td><td>0.000</td></tr>\n",
       "\t<tr><th scope=row>6</th><td>1</td><td>6</td><td>18.76</td><td>average</td><td>0</td><td> 9.68</td><td>high   </td><td>0.840</td><td>accept  </td><td>0.000</td></tr>\n",
       "\t<tr><th scope=row>7</th><td>1</td><td>7</td><td>18.76</td><td>high   </td><td>1</td><td> 9.68</td><td>low    </td><td>0.000</td><td>reject  </td><td>0.000</td></tr>\n",
       "\t<tr><th scope=row>8</th><td>1</td><td>8</td><td>18.76</td><td>high   </td><td>1</td><td> 9.68</td><td>average</td><td>0.000</td><td>reject  </td><td>0.000</td></tr>\n",
       "\t<tr><th scope=row>9</th><td>1</td><td>9</td><td>18.76</td><td>high   </td><td>1</td><td> 9.68</td><td>high   </td><td>0.840</td><td>consider</td><td>0.840</td></tr>\n",
       "\t<tr><th scope=row>10</th><td>2</td><td>1</td><td> 8.35</td><td>low    </td><td>0</td><td> 4.52</td><td>low    </td><td>0.740</td><td>consider</td><td>0.000</td></tr>\n",
       "\t<tr><th scope=row>11</th><td>2</td><td>2</td><td> 8.35</td><td>low    </td><td>0</td><td> 4.52</td><td>average</td><td>0.000</td><td>accept  </td><td>0.000</td></tr>\n",
       "\t<tr><th scope=row>12</th><td>2</td><td>3</td><td> 8.35</td><td>low    </td><td>0</td><td> 4.52</td><td>high   </td><td>0.000</td><td>accept  </td><td>0.000</td></tr>\n",
       "\t<tr><th scope=row>13</th><td>2</td><td>4</td><td> 8.35</td><td>average</td><td>1</td><td> 4.52</td><td>low    </td><td>0.740</td><td>reject  </td><td>0.740</td></tr>\n",
       "\t<tr><th scope=row>14</th><td>2</td><td>5</td><td> 8.35</td><td>average</td><td>1</td><td> 4.52</td><td>average</td><td>0.000</td><td>consider</td><td>0.000</td></tr>\n",
       "\t<tr><th scope=row>15</th><td>2</td><td>6</td><td> 8.35</td><td>average</td><td>1</td><td> 4.52</td><td>high   </td><td>0.000</td><td>accept  </td><td>0.000</td></tr>\n",
       "\t<tr><th scope=row>16</th><td>2</td><td>7</td><td> 8.35</td><td>high   </td><td>0</td><td> 4.52</td><td>low    </td><td>0.740</td><td>reject  </td><td>0.000</td></tr>\n",
       "\t<tr><th scope=row>17</th><td>2</td><td>8</td><td> 8.35</td><td>high   </td><td>0</td><td> 4.52</td><td>average</td><td>0.000</td><td>reject  </td><td>0.000</td></tr>\n",
       "\t<tr><th scope=row>18</th><td>2</td><td>9</td><td> 8.35</td><td>high   </td><td>0</td><td> 4.52</td><td>high   </td><td>0.000</td><td>consider</td><td>0.000</td></tr>\n",
       "\t<tr><th scope=row>19</th><td>3</td><td>1</td><td>17.03</td><td>low    </td><td>0</td><td>10.11</td><td>low    </td><td>0.000</td><td>consider</td><td>0.000</td></tr>\n",
       "\t<tr><th scope=row>20</th><td>3</td><td>2</td><td>17.03</td><td>low    </td><td>0</td><td>10.11</td><td>average</td><td>0.000</td><td>accept  </td><td>0.000</td></tr>\n",
       "\t<tr><th scope=row>21</th><td>3</td><td>3</td><td>17.03</td><td>low    </td><td>0</td><td>10.11</td><td>high   </td><td>1.000</td><td>accept  </td><td>0.000</td></tr>\n",
       "\t<tr><th scope=row>22</th><td>3</td><td>4</td><td>17.03</td><td>average</td><td>0</td><td>10.11</td><td>low    </td><td>0.000</td><td>reject  </td><td>0.000</td></tr>\n",
       "\t<tr><th scope=row>23</th><td>3</td><td>5</td><td>17.03</td><td>average</td><td>0</td><td>10.11</td><td>average</td><td>0.000</td><td>consider</td><td>0.000</td></tr>\n",
       "\t<tr><th scope=row>24</th><td>3</td><td>6</td><td>17.03</td><td>average</td><td>0</td><td>10.11</td><td>high   </td><td>1.000</td><td>accept  </td><td>0.000</td></tr>\n",
       "\t<tr><th scope=row>25</th><td>3</td><td>7</td><td>17.03</td><td>high   </td><td>1</td><td>10.11</td><td>low    </td><td>0.000</td><td>reject  </td><td>0.000</td></tr>\n",
       "\t<tr><th scope=row>26</th><td>3</td><td>8</td><td>17.03</td><td>high   </td><td>1</td><td>10.11</td><td>average</td><td>0.000</td><td>reject  </td><td>0.000</td></tr>\n",
       "\t<tr><th scope=row>27</th><td>3</td><td>9</td><td>17.03</td><td>high   </td><td>1</td><td>10.11</td><td>high   </td><td>1.000</td><td>consider</td><td>1.000</td></tr>\n",
       "\t<tr><th scope=row>28</th><td>4</td><td>1</td><td> 8.23</td><td>low    </td><td>0</td><td> 9.25</td><td>low    </td><td>0.000</td><td>consider</td><td>0.000</td></tr>\n",
       "\t<tr><th scope=row>29</th><td>4</td><td>2</td><td> 8.23</td><td>low    </td><td>0</td><td> 9.25</td><td>average</td><td>0.000</td><td>accept  </td><td>0.000</td></tr>\n",
       "\t<tr><th scope=row>30</th><td>4</td><td>3</td><td> 8.23</td><td>low    </td><td>0</td><td> 9.25</td><td>high   </td><td>0.625</td><td>accept  </td><td>0.000</td></tr>\n",
       "\t<tr><th scope=row>31</th><td>4</td><td>4</td><td> 8.23</td><td>average</td><td>1</td><td> 9.25</td><td>low    </td><td>0.000</td><td>reject  </td><td>0.000</td></tr>\n",
       "\t<tr><th scope=row>32</th><td>4</td><td>5</td><td> 8.23</td><td>average</td><td>1</td><td> 9.25</td><td>average</td><td>0.000</td><td>consider</td><td>0.000</td></tr>\n",
       "\t<tr><th scope=row>33</th><td>4</td><td>6</td><td> 8.23</td><td>average</td><td>1</td><td> 9.25</td><td>high   </td><td>0.625</td><td>accept  </td><td>0.625</td></tr>\n",
       "\t<tr><th scope=row>34</th><td>4</td><td>7</td><td> 8.23</td><td>high   </td><td>0</td><td> 9.25</td><td>low    </td><td>0.000</td><td>reject  </td><td>0.000</td></tr>\n",
       "\t<tr><th scope=row>35</th><td>4</td><td>8</td><td> 8.23</td><td>high   </td><td>0</td><td> 9.25</td><td>average</td><td>0.000</td><td>reject  </td><td>0.000</td></tr>\n",
       "\t<tr><th scope=row>36</th><td>4</td><td>9</td><td> 8.23</td><td>high   </td><td>0</td><td> 9.25</td><td>high   </td><td>0.625</td><td>consider</td><td>0.000</td></tr>\n",
       "\t<tr><th scope=row>37</th><td>5</td><td>1</td><td>16.89</td><td>low    </td><td>0</td><td> 6.99</td><td>low    </td><td>0.000</td><td>consider</td><td>0.000</td></tr>\n",
       "\t<tr><th scope=row>38</th><td>5</td><td>2</td><td>16.89</td><td>low    </td><td>0</td><td> 6.99</td><td>average</td><td>1.000</td><td>accept  </td><td>0.000</td></tr>\n",
       "\t<tr><th scope=row>39</th><td>5</td><td>3</td><td>16.89</td><td>low    </td><td>0</td><td> 6.99</td><td>high   </td><td>0.000</td><td>accept  </td><td>0.000</td></tr>\n",
       "\t<tr><th scope=row>40</th><td>5</td><td>4</td><td>16.89</td><td>average</td><td>0</td><td> 6.99</td><td>low    </td><td>0.000</td><td>reject  </td><td>0.000</td></tr>\n",
       "\t<tr><th scope=row>41</th><td>5</td><td>5</td><td>16.89</td><td>average</td><td>0</td><td> 6.99</td><td>average</td><td>1.000</td><td>consider</td><td>0.000</td></tr>\n",
       "\t<tr><th scope=row>42</th><td>5</td><td>6</td><td>16.89</td><td>average</td><td>0</td><td> 6.99</td><td>high   </td><td>0.000</td><td>accept  </td><td>0.000</td></tr>\n",
       "\t<tr><th scope=row>43</th><td>5</td><td>7</td><td>16.89</td><td>high   </td><td>1</td><td> 6.99</td><td>low    </td><td>0.000</td><td>reject  </td><td>0.000</td></tr>\n",
       "\t<tr><th scope=row>44</th><td>5</td><td>8</td><td>16.89</td><td>high   </td><td>1</td><td> 6.99</td><td>average</td><td>1.000</td><td>reject  </td><td>1.000</td></tr>\n",
       "\t<tr><th scope=row>45</th><td>5</td><td>9</td><td>16.89</td><td>high   </td><td>1</td><td> 6.99</td><td>high   </td><td>0.000</td><td>consider</td><td>0.000</td></tr>\n",
       "</tbody>\n",
       "</table>\n"
      ],
      "text/latex": [
       "A data.frame: 45 × 10\n",
       "\\begin{tabular}{r|llllllllll}\n",
       "  & data\\_id & id & income & income\\_rule & income\\_fuzzy & expense & expense\\_rule & expense\\_fuzzy & result\\_rule & result\\_fuzzy\\\\\n",
       "  & <int> & <int> & <dbl> & <chr> & <dbl> & <dbl> & <chr> & <dbl> & <chr> & <dbl>\\\\\n",
       "\\hline\n",
       "\t1 & 1 & 1 & 18.76 & low     & 0 &  9.68 & low     & 0.000 & consider & 0.000\\\\\n",
       "\t2 & 1 & 2 & 18.76 & low     & 0 &  9.68 & average & 0.000 & accept   & 0.000\\\\\n",
       "\t3 & 1 & 3 & 18.76 & low     & 0 &  9.68 & high    & 0.840 & accept   & 0.000\\\\\n",
       "\t4 & 1 & 4 & 18.76 & average & 0 &  9.68 & low     & 0.000 & reject   & 0.000\\\\\n",
       "\t5 & 1 & 5 & 18.76 & average & 0 &  9.68 & average & 0.000 & consider & 0.000\\\\\n",
       "\t6 & 1 & 6 & 18.76 & average & 0 &  9.68 & high    & 0.840 & accept   & 0.000\\\\\n",
       "\t7 & 1 & 7 & 18.76 & high    & 1 &  9.68 & low     & 0.000 & reject   & 0.000\\\\\n",
       "\t8 & 1 & 8 & 18.76 & high    & 1 &  9.68 & average & 0.000 & reject   & 0.000\\\\\n",
       "\t9 & 1 & 9 & 18.76 & high    & 1 &  9.68 & high    & 0.840 & consider & 0.840\\\\\n",
       "\t10 & 2 & 1 &  8.35 & low     & 0 &  4.52 & low     & 0.740 & consider & 0.000\\\\\n",
       "\t11 & 2 & 2 &  8.35 & low     & 0 &  4.52 & average & 0.000 & accept   & 0.000\\\\\n",
       "\t12 & 2 & 3 &  8.35 & low     & 0 &  4.52 & high    & 0.000 & accept   & 0.000\\\\\n",
       "\t13 & 2 & 4 &  8.35 & average & 1 &  4.52 & low     & 0.740 & reject   & 0.740\\\\\n",
       "\t14 & 2 & 5 &  8.35 & average & 1 &  4.52 & average & 0.000 & consider & 0.000\\\\\n",
       "\t15 & 2 & 6 &  8.35 & average & 1 &  4.52 & high    & 0.000 & accept   & 0.000\\\\\n",
       "\t16 & 2 & 7 &  8.35 & high    & 0 &  4.52 & low     & 0.740 & reject   & 0.000\\\\\n",
       "\t17 & 2 & 8 &  8.35 & high    & 0 &  4.52 & average & 0.000 & reject   & 0.000\\\\\n",
       "\t18 & 2 & 9 &  8.35 & high    & 0 &  4.52 & high    & 0.000 & consider & 0.000\\\\\n",
       "\t19 & 3 & 1 & 17.03 & low     & 0 & 10.11 & low     & 0.000 & consider & 0.000\\\\\n",
       "\t20 & 3 & 2 & 17.03 & low     & 0 & 10.11 & average & 0.000 & accept   & 0.000\\\\\n",
       "\t21 & 3 & 3 & 17.03 & low     & 0 & 10.11 & high    & 1.000 & accept   & 0.000\\\\\n",
       "\t22 & 3 & 4 & 17.03 & average & 0 & 10.11 & low     & 0.000 & reject   & 0.000\\\\\n",
       "\t23 & 3 & 5 & 17.03 & average & 0 & 10.11 & average & 0.000 & consider & 0.000\\\\\n",
       "\t24 & 3 & 6 & 17.03 & average & 0 & 10.11 & high    & 1.000 & accept   & 0.000\\\\\n",
       "\t25 & 3 & 7 & 17.03 & high    & 1 & 10.11 & low     & 0.000 & reject   & 0.000\\\\\n",
       "\t26 & 3 & 8 & 17.03 & high    & 1 & 10.11 & average & 0.000 & reject   & 0.000\\\\\n",
       "\t27 & 3 & 9 & 17.03 & high    & 1 & 10.11 & high    & 1.000 & consider & 1.000\\\\\n",
       "\t28 & 4 & 1 &  8.23 & low     & 0 &  9.25 & low     & 0.000 & consider & 0.000\\\\\n",
       "\t29 & 4 & 2 &  8.23 & low     & 0 &  9.25 & average & 0.000 & accept   & 0.000\\\\\n",
       "\t30 & 4 & 3 &  8.23 & low     & 0 &  9.25 & high    & 0.625 & accept   & 0.000\\\\\n",
       "\t31 & 4 & 4 &  8.23 & average & 1 &  9.25 & low     & 0.000 & reject   & 0.000\\\\\n",
       "\t32 & 4 & 5 &  8.23 & average & 1 &  9.25 & average & 0.000 & consider & 0.000\\\\\n",
       "\t33 & 4 & 6 &  8.23 & average & 1 &  9.25 & high    & 0.625 & accept   & 0.625\\\\\n",
       "\t34 & 4 & 7 &  8.23 & high    & 0 &  9.25 & low     & 0.000 & reject   & 0.000\\\\\n",
       "\t35 & 4 & 8 &  8.23 & high    & 0 &  9.25 & average & 0.000 & reject   & 0.000\\\\\n",
       "\t36 & 4 & 9 &  8.23 & high    & 0 &  9.25 & high    & 0.625 & consider & 0.000\\\\\n",
       "\t37 & 5 & 1 & 16.89 & low     & 0 &  6.99 & low     & 0.000 & consider & 0.000\\\\\n",
       "\t38 & 5 & 2 & 16.89 & low     & 0 &  6.99 & average & 1.000 & accept   & 0.000\\\\\n",
       "\t39 & 5 & 3 & 16.89 & low     & 0 &  6.99 & high    & 0.000 & accept   & 0.000\\\\\n",
       "\t40 & 5 & 4 & 16.89 & average & 0 &  6.99 & low     & 0.000 & reject   & 0.000\\\\\n",
       "\t41 & 5 & 5 & 16.89 & average & 0 &  6.99 & average & 1.000 & consider & 0.000\\\\\n",
       "\t42 & 5 & 6 & 16.89 & average & 0 &  6.99 & high    & 0.000 & accept   & 0.000\\\\\n",
       "\t43 & 5 & 7 & 16.89 & high    & 1 &  6.99 & low     & 0.000 & reject   & 0.000\\\\\n",
       "\t44 & 5 & 8 & 16.89 & high    & 1 &  6.99 & average & 1.000 & reject   & 1.000\\\\\n",
       "\t45 & 5 & 9 & 16.89 & high    & 1 &  6.99 & high    & 0.000 & consider & 0.000\\\\\n",
       "\\end{tabular}\n"
      ],
      "text/markdown": [
       "\n",
       "A data.frame: 45 × 10\n",
       "\n",
       "| <!--/--> | data_id &lt;int&gt; | id &lt;int&gt; | income &lt;dbl&gt; | income_rule &lt;chr&gt; | income_fuzzy &lt;dbl&gt; | expense &lt;dbl&gt; | expense_rule &lt;chr&gt; | expense_fuzzy &lt;dbl&gt; | result_rule &lt;chr&gt; | result_fuzzy &lt;dbl&gt; |\n",
       "|---|---|---|---|---|---|---|---|---|---|---|\n",
       "| 1 | 1 | 1 | 18.76 | low     | 0 |  9.68 | low     | 0.000 | consider | 0.000 |\n",
       "| 2 | 1 | 2 | 18.76 | low     | 0 |  9.68 | average | 0.000 | accept   | 0.000 |\n",
       "| 3 | 1 | 3 | 18.76 | low     | 0 |  9.68 | high    | 0.840 | accept   | 0.000 |\n",
       "| 4 | 1 | 4 | 18.76 | average | 0 |  9.68 | low     | 0.000 | reject   | 0.000 |\n",
       "| 5 | 1 | 5 | 18.76 | average | 0 |  9.68 | average | 0.000 | consider | 0.000 |\n",
       "| 6 | 1 | 6 | 18.76 | average | 0 |  9.68 | high    | 0.840 | accept   | 0.000 |\n",
       "| 7 | 1 | 7 | 18.76 | high    | 1 |  9.68 | low     | 0.000 | reject   | 0.000 |\n",
       "| 8 | 1 | 8 | 18.76 | high    | 1 |  9.68 | average | 0.000 | reject   | 0.000 |\n",
       "| 9 | 1 | 9 | 18.76 | high    | 1 |  9.68 | high    | 0.840 | consider | 0.840 |\n",
       "| 10 | 2 | 1 |  8.35 | low     | 0 |  4.52 | low     | 0.740 | consider | 0.000 |\n",
       "| 11 | 2 | 2 |  8.35 | low     | 0 |  4.52 | average | 0.000 | accept   | 0.000 |\n",
       "| 12 | 2 | 3 |  8.35 | low     | 0 |  4.52 | high    | 0.000 | accept   | 0.000 |\n",
       "| 13 | 2 | 4 |  8.35 | average | 1 |  4.52 | low     | 0.740 | reject   | 0.740 |\n",
       "| 14 | 2 | 5 |  8.35 | average | 1 |  4.52 | average | 0.000 | consider | 0.000 |\n",
       "| 15 | 2 | 6 |  8.35 | average | 1 |  4.52 | high    | 0.000 | accept   | 0.000 |\n",
       "| 16 | 2 | 7 |  8.35 | high    | 0 |  4.52 | low     | 0.740 | reject   | 0.000 |\n",
       "| 17 | 2 | 8 |  8.35 | high    | 0 |  4.52 | average | 0.000 | reject   | 0.000 |\n",
       "| 18 | 2 | 9 |  8.35 | high    | 0 |  4.52 | high    | 0.000 | consider | 0.000 |\n",
       "| 19 | 3 | 1 | 17.03 | low     | 0 | 10.11 | low     | 0.000 | consider | 0.000 |\n",
       "| 20 | 3 | 2 | 17.03 | low     | 0 | 10.11 | average | 0.000 | accept   | 0.000 |\n",
       "| 21 | 3 | 3 | 17.03 | low     | 0 | 10.11 | high    | 1.000 | accept   | 0.000 |\n",
       "| 22 | 3 | 4 | 17.03 | average | 0 | 10.11 | low     | 0.000 | reject   | 0.000 |\n",
       "| 23 | 3 | 5 | 17.03 | average | 0 | 10.11 | average | 0.000 | consider | 0.000 |\n",
       "| 24 | 3 | 6 | 17.03 | average | 0 | 10.11 | high    | 1.000 | accept   | 0.000 |\n",
       "| 25 | 3 | 7 | 17.03 | high    | 1 | 10.11 | low     | 0.000 | reject   | 0.000 |\n",
       "| 26 | 3 | 8 | 17.03 | high    | 1 | 10.11 | average | 0.000 | reject   | 0.000 |\n",
       "| 27 | 3 | 9 | 17.03 | high    | 1 | 10.11 | high    | 1.000 | consider | 1.000 |\n",
       "| 28 | 4 | 1 |  8.23 | low     | 0 |  9.25 | low     | 0.000 | consider | 0.000 |\n",
       "| 29 | 4 | 2 |  8.23 | low     | 0 |  9.25 | average | 0.000 | accept   | 0.000 |\n",
       "| 30 | 4 | 3 |  8.23 | low     | 0 |  9.25 | high    | 0.625 | accept   | 0.000 |\n",
       "| 31 | 4 | 4 |  8.23 | average | 1 |  9.25 | low     | 0.000 | reject   | 0.000 |\n",
       "| 32 | 4 | 5 |  8.23 | average | 1 |  9.25 | average | 0.000 | consider | 0.000 |\n",
       "| 33 | 4 | 6 |  8.23 | average | 1 |  9.25 | high    | 0.625 | accept   | 0.625 |\n",
       "| 34 | 4 | 7 |  8.23 | high    | 0 |  9.25 | low     | 0.000 | reject   | 0.000 |\n",
       "| 35 | 4 | 8 |  8.23 | high    | 0 |  9.25 | average | 0.000 | reject   | 0.000 |\n",
       "| 36 | 4 | 9 |  8.23 | high    | 0 |  9.25 | high    | 0.625 | consider | 0.000 |\n",
       "| 37 | 5 | 1 | 16.89 | low     | 0 |  6.99 | low     | 0.000 | consider | 0.000 |\n",
       "| 38 | 5 | 2 | 16.89 | low     | 0 |  6.99 | average | 1.000 | accept   | 0.000 |\n",
       "| 39 | 5 | 3 | 16.89 | low     | 0 |  6.99 | high    | 0.000 | accept   | 0.000 |\n",
       "| 40 | 5 | 4 | 16.89 | average | 0 |  6.99 | low     | 0.000 | reject   | 0.000 |\n",
       "| 41 | 5 | 5 | 16.89 | average | 0 |  6.99 | average | 1.000 | consider | 0.000 |\n",
       "| 42 | 5 | 6 | 16.89 | average | 0 |  6.99 | high    | 0.000 | accept   | 0.000 |\n",
       "| 43 | 5 | 7 | 16.89 | high    | 1 |  6.99 | low     | 0.000 | reject   | 0.000 |\n",
       "| 44 | 5 | 8 | 16.89 | high    | 1 |  6.99 | average | 1.000 | reject   | 1.000 |\n",
       "| 45 | 5 | 9 | 16.89 | high    | 1 |  6.99 | high    | 0.000 | consider | 0.000 |\n",
       "\n"
      ],
      "text/plain": [
       "   data_id id income income_rule income_fuzzy expense expense_rule\n",
       "1  1       1  18.76  low         0             9.68   low         \n",
       "2  1       2  18.76  low         0             9.68   average     \n",
       "3  1       3  18.76  low         0             9.68   high        \n",
       "4  1       4  18.76  average     0             9.68   low         \n",
       "5  1       5  18.76  average     0             9.68   average     \n",
       "6  1       6  18.76  average     0             9.68   high        \n",
       "7  1       7  18.76  high        1             9.68   low         \n",
       "8  1       8  18.76  high        1             9.68   average     \n",
       "9  1       9  18.76  high        1             9.68   high        \n",
       "10 2       1   8.35  low         0             4.52   low         \n",
       "11 2       2   8.35  low         0             4.52   average     \n",
       "12 2       3   8.35  low         0             4.52   high        \n",
       "13 2       4   8.35  average     1             4.52   low         \n",
       "14 2       5   8.35  average     1             4.52   average     \n",
       "15 2       6   8.35  average     1             4.52   high        \n",
       "16 2       7   8.35  high        0             4.52   low         \n",
       "17 2       8   8.35  high        0             4.52   average     \n",
       "18 2       9   8.35  high        0             4.52   high        \n",
       "19 3       1  17.03  low         0            10.11   low         \n",
       "20 3       2  17.03  low         0            10.11   average     \n",
       "21 3       3  17.03  low         0            10.11   high        \n",
       "22 3       4  17.03  average     0            10.11   low         \n",
       "23 3       5  17.03  average     0            10.11   average     \n",
       "24 3       6  17.03  average     0            10.11   high        \n",
       "25 3       7  17.03  high        1            10.11   low         \n",
       "26 3       8  17.03  high        1            10.11   average     \n",
       "27 3       9  17.03  high        1            10.11   high        \n",
       "28 4       1   8.23  low         0             9.25   low         \n",
       "29 4       2   8.23  low         0             9.25   average     \n",
       "30 4       3   8.23  low         0             9.25   high        \n",
       "31 4       4   8.23  average     1             9.25   low         \n",
       "32 4       5   8.23  average     1             9.25   average     \n",
       "33 4       6   8.23  average     1             9.25   high        \n",
       "34 4       7   8.23  high        0             9.25   low         \n",
       "35 4       8   8.23  high        0             9.25   average     \n",
       "36 4       9   8.23  high        0             9.25   high        \n",
       "37 5       1  16.89  low         0             6.99   low         \n",
       "38 5       2  16.89  low         0             6.99   average     \n",
       "39 5       3  16.89  low         0             6.99   high        \n",
       "40 5       4  16.89  average     0             6.99   low         \n",
       "41 5       5  16.89  average     0             6.99   average     \n",
       "42 5       6  16.89  average     0             6.99   high        \n",
       "43 5       7  16.89  high        1             6.99   low         \n",
       "44 5       8  16.89  high        1             6.99   average     \n",
       "45 5       9  16.89  high        1             6.99   high        \n",
       "   expense_fuzzy result_rule result_fuzzy\n",
       "1  0.000         consider    0.000       \n",
       "2  0.000         accept      0.000       \n",
       "3  0.840         accept      0.000       \n",
       "4  0.000         reject      0.000       \n",
       "5  0.000         consider    0.000       \n",
       "6  0.840         accept      0.000       \n",
       "7  0.000         reject      0.000       \n",
       "8  0.000         reject      0.000       \n",
       "9  0.840         consider    0.840       \n",
       "10 0.740         consider    0.000       \n",
       "11 0.000         accept      0.000       \n",
       "12 0.000         accept      0.000       \n",
       "13 0.740         reject      0.740       \n",
       "14 0.000         consider    0.000       \n",
       "15 0.000         accept      0.000       \n",
       "16 0.740         reject      0.000       \n",
       "17 0.000         reject      0.000       \n",
       "18 0.000         consider    0.000       \n",
       "19 0.000         consider    0.000       \n",
       "20 0.000         accept      0.000       \n",
       "21 1.000         accept      0.000       \n",
       "22 0.000         reject      0.000       \n",
       "23 0.000         consider    0.000       \n",
       "24 1.000         accept      0.000       \n",
       "25 0.000         reject      0.000       \n",
       "26 0.000         reject      0.000       \n",
       "27 1.000         consider    1.000       \n",
       "28 0.000         consider    0.000       \n",
       "29 0.000         accept      0.000       \n",
       "30 0.625         accept      0.000       \n",
       "31 0.000         reject      0.000       \n",
       "32 0.000         consider    0.000       \n",
       "33 0.625         accept      0.625       \n",
       "34 0.000         reject      0.000       \n",
       "35 0.000         reject      0.000       \n",
       "36 0.625         consider    0.000       \n",
       "37 0.000         consider    0.000       \n",
       "38 1.000         accept      0.000       \n",
       "39 0.000         accept      0.000       \n",
       "40 0.000         reject      0.000       \n",
       "41 1.000         consider    0.000       \n",
       "42 0.000         accept      0.000       \n",
       "43 0.000         reject      0.000       \n",
       "44 1.000         reject      1.000       \n",
       "45 0.000         consider    0.000       "
      ]
     },
     "metadata": {},
     "output_type": "display_data"
    }
   ],
   "source": [
    "new_dataset <- data.frame()\n",
    "for (i in 1:nrow(dataset)) {\n",
    "    fuzzy_table <- generate_fuzzy_table(dataset[i, ], rules)\n",
    "    new_dataset <- rbind(new_dataset, fuzzy_table)\n",
    "}\n",
    "new_dataset[1:45,]"
   ]
  },
  {
   "cell_type": "markdown",
   "metadata": {},
   "source": [
    "In order to infer the value for each row of data, the data will be used as argument which has a length based on the row count of the rules itself. The inference step selects the maximum value for each result rules defined."
   ]
  },
  {
   "cell_type": "code",
   "execution_count": 14,
   "metadata": {},
   "outputs": [],
   "source": [
    "inference <- function(data) {\n",
    "    selected_column <- c('data_id', 'result_rule', 'result_fuzzy')\n",
    "    reject <- data$result_rule == 'reject'\n",
    "    consider <- data$result_rule == 'consider'\n",
    "    accept <- data$result_rule == 'accept'\n",
    "    data <- data[selected_column]\n",
    "    reject_data <- data[reject, selected_column]\n",
    "    consider_data <- data[consider, selected_column]\n",
    "    accept_data <- data[accept, selected_column]\n",
    "    id = data[1, 'data_id']\n",
    "    return(data.frame(\n",
    "        id = id,\n",
    "        reject = max(reject_data$result_fuzzy),\n",
    "        consider = max(consider_data$result_fuzzy),\n",
    "        accept = max(accept_data$result_fuzzy)\n",
    "    ))\n",
    "}"
   ]
  },
  {
   "cell_type": "markdown",
   "metadata": {},
   "source": [
    "The inference process for all data will results in the same length as the data count in dataset. Based on the sample, since the sample size is 45, it will be reduced down to 5 data only since the result has been inferred. The sample data can be shown below:"
   ]
  },
  {
   "cell_type": "code",
   "execution_count": 15,
   "metadata": {},
   "outputs": [
    {
     "data": {
      "text/html": [
       "<table>\n",
       "<caption>A data.frame: 5 × 4</caption>\n",
       "<thead>\n",
       "\t<tr><th></th><th scope=col>id</th><th scope=col>reject</th><th scope=col>consider</th><th scope=col>accept</th></tr>\n",
       "\t<tr><th></th><th scope=col>&lt;int&gt;</th><th scope=col>&lt;dbl&gt;</th><th scope=col>&lt;dbl&gt;</th><th scope=col>&lt;dbl&gt;</th></tr>\n",
       "</thead>\n",
       "<tbody>\n",
       "\t<tr><th scope=row>1</th><td>1</td><td>0.00</td><td>0.84</td><td>0.000</td></tr>\n",
       "\t<tr><th scope=row>2</th><td>2</td><td>0.74</td><td>0.00</td><td>0.000</td></tr>\n",
       "\t<tr><th scope=row>3</th><td>3</td><td>0.00</td><td>1.00</td><td>0.000</td></tr>\n",
       "\t<tr><th scope=row>4</th><td>4</td><td>0.00</td><td>0.00</td><td>0.625</td></tr>\n",
       "\t<tr><th scope=row>5</th><td>5</td><td>1.00</td><td>0.00</td><td>0.000</td></tr>\n",
       "</tbody>\n",
       "</table>\n"
      ],
      "text/latex": [
       "A data.frame: 5 × 4\n",
       "\\begin{tabular}{r|llll}\n",
       "  & id & reject & consider & accept\\\\\n",
       "  & <int> & <dbl> & <dbl> & <dbl>\\\\\n",
       "\\hline\n",
       "\t1 & 1 & 0.00 & 0.84 & 0.000\\\\\n",
       "\t2 & 2 & 0.74 & 0.00 & 0.000\\\\\n",
       "\t3 & 3 & 0.00 & 1.00 & 0.000\\\\\n",
       "\t4 & 4 & 0.00 & 0.00 & 0.625\\\\\n",
       "\t5 & 5 & 1.00 & 0.00 & 0.000\\\\\n",
       "\\end{tabular}\n"
      ],
      "text/markdown": [
       "\n",
       "A data.frame: 5 × 4\n",
       "\n",
       "| <!--/--> | id &lt;int&gt; | reject &lt;dbl&gt; | consider &lt;dbl&gt; | accept &lt;dbl&gt; |\n",
       "|---|---|---|---|---|\n",
       "| 1 | 1 | 0.00 | 0.84 | 0.000 |\n",
       "| 2 | 2 | 0.74 | 0.00 | 0.000 |\n",
       "| 3 | 3 | 0.00 | 1.00 | 0.000 |\n",
       "| 4 | 4 | 0.00 | 0.00 | 0.625 |\n",
       "| 5 | 5 | 1.00 | 0.00 | 0.000 |\n",
       "\n"
      ],
      "text/plain": [
       "  id reject consider accept\n",
       "1 1  0.00   0.84     0.000 \n",
       "2 2  0.74   0.00     0.000 \n",
       "3 3  0.00   1.00     0.000 \n",
       "4 4  0.00   0.00     0.625 \n",
       "5 5  1.00   0.00     0.000 "
      ]
     },
     "metadata": {},
     "output_type": "display_data"
    }
   ],
   "source": [
    "fuzzy_output_df <- data.frame()\n",
    "for (i in seq(1, nrow(new_dataset), nrow(rules))) {\n",
    "    inferred_data <- inference(new_dataset[seq(i, i+nrow(rules)-1),])\n",
    "    fuzzy_output_df <- rbind(fuzzy_output_df, inferred_data)\n",
    "}\n",
    "fuzzy_output_df[1:5,]"
   ]
  },
  {
   "cell_type": "markdown",
   "metadata": {},
   "source": [
    "#### 5. Defuzzificaton (Center of Gravity, Mamdani)\n",
    "Before doing fuzzification step, there are couple of functions need to be considered in this program. Since the defuzzification process is using center of gravity method. The first things that should be done is to generate a random sequence for the result membership which has been generated in the previous step and grouped into a dataframe. Next, replace values that is in range of, $0\\leq x_i \\leq \\mu B(z_i)$ with $x_i$ being the inferred result from the previous step. The functions explained can be implemented as below:"
   ]
  },
  {
   "cell_type": "code",
   "execution_count": 16,
   "metadata": {},
   "outputs": [],
   "source": [
    "# Group all result membership sequences and membership result into a dataframe\n",
    "result_list <- list(sequence, \n",
    "                    result_sequence.reject, \n",
    "                    result_sequence.consider, \n",
    "                    result_sequence.accept\n",
    "                   )\n",
    "result_df <- data.frame(matrix(unlist(result_list), nrow = length(sequence)))\n",
    "colnames(result_df) <- c('x', 'reject', 'consider', 'accept')"
   ]
  },
  {
   "cell_type": "code",
   "execution_count": 17,
   "metadata": {},
   "outputs": [],
   "source": [
    "# Replace values that is in range of, 0 <= x <= maxfuzzy of each membership from inference\n",
    "replace_value <- function(table, row) {\n",
    "    for (i in 1:nrow(table)) {\n",
    "        if (row['reject'] <= table[i, 'reject']) table[i, 'reject'] <- row['reject']\n",
    "        if (row['consider'] <= table[i, 'consider']) table[i, 'consider'] <- row['consider']\n",
    "        if (row['accept'] <= table[i, 'accept']) table[i, 'accept'] <- row['accept']\n",
    "    }\n",
    "    return(table)\n",
    "} "
   ]
  },
  {
   "cell_type": "markdown",
   "metadata": {},
   "source": [
    "As stated, the fuzzification method implemented is using center of gravity (Mamdani). The formula for this method is: $\\frac{\\sum_{i=1}^n \\mu B(z_i) z_i}{\\sum_{i=1}^n \\mu B(z_i)}$ where $\\mu B(z_i) \\text{: Membership of the } i^{th} \\text{ value}$ and $z_i \\text{: } i^{th} \\text{ value of the generated sequence}$. The implementation firstly replaces values using the previously implemented function which then used to find max fuzzy values between the defined sequence. Then, the max value multiplied by the values of generated sequence. Finally, the multiplied value and the max fuzzy value are both summed and divided to get the crisp result, which is the center of gravity. The implementation can be shown as below:"
   ]
  },
  {
   "cell_type": "code",
   "execution_count": 18,
   "metadata": {},
   "outputs": [],
   "source": [
    "center_of_gravity <- function(table, row) {\n",
    "    new_table <- replace_value(table, row)\n",
    "    new_table[, 'max'] <- apply(new_table[c('reject', 'consider', 'accept')], 1, max)\n",
    "    new_table[, 'max*x'] <- apply(new_table, 1, function(x) {\n",
    "        return(x['max'] * x['x'])\n",
    "    })\n",
    "    return(sum(new_table['max*x'])/sum(new_table['max']))\n",
    "}"
   ]
  },
  {
   "cell_type": "markdown",
   "metadata": {},
   "source": [
    "The data from inference is used to calculate the crisp value of each row that has the inferred values. Here is the first 5 samples of the crisp value generated."
   ]
  },
  {
   "cell_type": "code",
   "execution_count": 19,
   "metadata": {},
   "outputs": [
    {
     "data": {
      "text/html": [
       "<table>\n",
       "<caption>A data.frame: 5 × 2</caption>\n",
       "<thead>\n",
       "\t<tr><th></th><th scope=col>id</th><th scope=col>value</th></tr>\n",
       "\t<tr><th></th><th scope=col>&lt;int&gt;</th><th scope=col>&lt;dbl&gt;</th></tr>\n",
       "</thead>\n",
       "<tbody>\n",
       "\t<tr><th scope=row>1</th><td>1</td><td>66.56788</td></tr>\n",
       "\t<tr><th scope=row>2</th><td>2</td><td>26.44833</td></tr>\n",
       "\t<tr><th scope=row>3</th><td>3</td><td>66.42854</td></tr>\n",
       "\t<tr><th scope=row>4</th><td>4</td><td>89.01327</td></tr>\n",
       "\t<tr><th scope=row>5</th><td>5</td><td>25.30799</td></tr>\n",
       "</tbody>\n",
       "</table>\n"
      ],
      "text/latex": [
       "A data.frame: 5 × 2\n",
       "\\begin{tabular}{r|ll}\n",
       "  & id & value\\\\\n",
       "  & <int> & <dbl>\\\\\n",
       "\\hline\n",
       "\t1 & 1 & 66.56788\\\\\n",
       "\t2 & 2 & 26.44833\\\\\n",
       "\t3 & 3 & 66.42854\\\\\n",
       "\t4 & 4 & 89.01327\\\\\n",
       "\t5 & 5 & 25.30799\\\\\n",
       "\\end{tabular}\n"
      ],
      "text/markdown": [
       "\n",
       "A data.frame: 5 × 2\n",
       "\n",
       "| <!--/--> | id &lt;int&gt; | value &lt;dbl&gt; |\n",
       "|---|---|---|\n",
       "| 1 | 1 | 66.56788 |\n",
       "| 2 | 2 | 26.44833 |\n",
       "| 3 | 3 | 66.42854 |\n",
       "| 4 | 4 | 89.01327 |\n",
       "| 5 | 5 | 25.30799 |\n",
       "\n"
      ],
      "text/plain": [
       "  id value   \n",
       "1 1  66.56788\n",
       "2 2  26.44833\n",
       "3 3  66.42854\n",
       "4 4  89.01327\n",
       "5 5  25.30799"
      ]
     },
     "metadata": {},
     "output_type": "display_data"
    }
   ],
   "source": [
    "result_crisp_df <- data.frame()\n",
    "for (i in 1:nrow(fuzzy_output_df)) {\n",
    "    new_row <- list(\n",
    "        id = fuzzy_output_df[i, 'id'],\n",
    "        value = center_of_gravity(result_df, fuzzy_output_df[i, ])\n",
    "    )\n",
    "    result_crisp_df <- rbind(result_crisp_df, new_row)\n",
    "}\n",
    "result_crisp_df[1:5,]"
   ]
  },
  {
   "cell_type": "markdown",
   "metadata": {},
   "source": [
    "#### 6. Fetch first 20 data with maximum crisp value\n",
    "The defuzzified data is sorted based on the crisp value descendingly, selects the id column, and sorted again ascendingly based on id."
   ]
  },
  {
   "cell_type": "code",
   "execution_count": 20,
   "metadata": {},
   "outputs": [
    {
     "data": {
      "text/html": [
       "<table>\n",
       "<caption>A data.frame: 20 × 1</caption>\n",
       "<thead>\n",
       "\t<tr><th></th><th scope=col>id</th></tr>\n",
       "\t<tr><th></th><th scope=col>&lt;int&gt;</th></tr>\n",
       "</thead>\n",
       "<tbody>\n",
       "\t<tr><th scope=row>4</th><td> 4</td></tr>\n",
       "\t<tr><th scope=row>7</th><td> 7</td></tr>\n",
       "\t<tr><th scope=row>11</th><td>11</td></tr>\n",
       "\t<tr><th scope=row>13</th><td>13</td></tr>\n",
       "\t<tr><th scope=row>33</th><td>33</td></tr>\n",
       "\t<tr><th scope=row>38</th><td>38</td></tr>\n",
       "\t<tr><th scope=row>41</th><td>41</td></tr>\n",
       "\t<tr><th scope=row>46</th><td>46</td></tr>\n",
       "\t<tr><th scope=row>47</th><td>47</td></tr>\n",
       "\t<tr><th scope=row>49</th><td>49</td></tr>\n",
       "\t<tr><th scope=row>50</th><td>50</td></tr>\n",
       "\t<tr><th scope=row>52</th><td>52</td></tr>\n",
       "\t<tr><th scope=row>63</th><td>63</td></tr>\n",
       "\t<tr><th scope=row>66</th><td>66</td></tr>\n",
       "\t<tr><th scope=row>69</th><td>69</td></tr>\n",
       "\t<tr><th scope=row>75</th><td>75</td></tr>\n",
       "\t<tr><th scope=row>79</th><td>79</td></tr>\n",
       "\t<tr><th scope=row>81</th><td>81</td></tr>\n",
       "\t<tr><th scope=row>94</th><td>94</td></tr>\n",
       "\t<tr><th scope=row>99</th><td>99</td></tr>\n",
       "</tbody>\n",
       "</table>\n"
      ],
      "text/latex": [
       "A data.frame: 20 × 1\n",
       "\\begin{tabular}{r|l}\n",
       "  & id\\\\\n",
       "  & <int>\\\\\n",
       "\\hline\n",
       "\t4 &  4\\\\\n",
       "\t7 &  7\\\\\n",
       "\t11 & 11\\\\\n",
       "\t13 & 13\\\\\n",
       "\t33 & 33\\\\\n",
       "\t38 & 38\\\\\n",
       "\t41 & 41\\\\\n",
       "\t46 & 46\\\\\n",
       "\t47 & 47\\\\\n",
       "\t49 & 49\\\\\n",
       "\t50 & 50\\\\\n",
       "\t52 & 52\\\\\n",
       "\t63 & 63\\\\\n",
       "\t66 & 66\\\\\n",
       "\t69 & 69\\\\\n",
       "\t75 & 75\\\\\n",
       "\t79 & 79\\\\\n",
       "\t81 & 81\\\\\n",
       "\t94 & 94\\\\\n",
       "\t99 & 99\\\\\n",
       "\\end{tabular}\n"
      ],
      "text/markdown": [
       "\n",
       "A data.frame: 20 × 1\n",
       "\n",
       "| <!--/--> | id &lt;int&gt; |\n",
       "|---|---|\n",
       "| 4 |  4 |\n",
       "| 7 |  7 |\n",
       "| 11 | 11 |\n",
       "| 13 | 13 |\n",
       "| 33 | 33 |\n",
       "| 38 | 38 |\n",
       "| 41 | 41 |\n",
       "| 46 | 46 |\n",
       "| 47 | 47 |\n",
       "| 49 | 49 |\n",
       "| 50 | 50 |\n",
       "| 52 | 52 |\n",
       "| 63 | 63 |\n",
       "| 66 | 66 |\n",
       "| 69 | 69 |\n",
       "| 75 | 75 |\n",
       "| 79 | 79 |\n",
       "| 81 | 81 |\n",
       "| 94 | 94 |\n",
       "| 99 | 99 |\n",
       "\n"
      ],
      "text/plain": [
       "   id\n",
       "4   4\n",
       "7   7\n",
       "11 11\n",
       "13 13\n",
       "33 33\n",
       "38 38\n",
       "41 41\n",
       "46 46\n",
       "47 47\n",
       "49 49\n",
       "50 50\n",
       "52 52\n",
       "63 63\n",
       "66 66\n",
       "69 69\n",
       "75 75\n",
       "79 79\n",
       "81 81\n",
       "94 94\n",
       "99 99"
      ]
     },
     "metadata": {},
     "output_type": "display_data"
    }
   ],
   "source": [
    "final <- result_crisp_df[order(result_crisp_df['value'], decreasing = TRUE),]\n",
    "final <- final[1:20,]\n",
    "final <- final[order(final['id']),]\n",
    "final <- final['id']\n",
    "final"
   ]
  },
  {
   "cell_type": "markdown",
   "metadata": {},
   "source": [
    "Finally, the data is exported as 'bantuan.xlsx' which contains the top 20 students that accepted for aid."
   ]
  },
  {
   "cell_type": "code",
   "execution_count": 21,
   "metadata": {},
   "outputs": [],
   "source": [
    "write.xlsx2(final, 'bantuan.xlsx', row.names=FALSE)"
   ]
  }
 ],
 "metadata": {
  "kernelspec": {
   "display_name": "R",
   "language": "R",
   "name": "ir"
  },
  "language_info": {
   "codemirror_mode": "r",
   "file_extension": ".r",
   "mimetype": "text/x-r-source",
   "name": "R",
   "pygments_lexer": "r",
   "version": "4.0.3"
  }
 },
 "nbformat": 4,
 "nbformat_minor": 4
}
